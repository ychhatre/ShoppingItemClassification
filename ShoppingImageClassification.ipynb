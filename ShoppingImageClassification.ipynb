{
  "cells": [
    {
      "cell_type": "markdown",
      "metadata": {
        "id": "view-in-github",
        "colab_type": "text"
      },
      "source": [
        "<a href=\"https://colab.research.google.com/github/ychhatre/ShoppingItemClassification/blob/main/ShoppingImageClassification.ipynb\" target=\"_parent\"><img src=\"https://colab.research.google.com/assets/colab-badge.svg\" alt=\"Open In Colab\"/></a>"
      ]
    },
    {
      "cell_type": "code",
      "execution_count": null,
      "metadata": {
        "colab": {
          "base_uri": "https://localhost:8080/"
        },
        "id": "a66A4hstW5IO",
        "outputId": "4dd94f6d-728d-4668-92fa-d0301c284f17"
      },
      "outputs": [
        {
          "output_type": "stream",
          "name": "stdout",
          "text": [
            "--2022-08-13 19:46:59--  https://github.com/vinay-swamy/deeplearning_tutorial/raw/main/data.tar.gz\n",
            "Resolving github.com (github.com)... 140.82.121.3\n",
            "Connecting to github.com (github.com)|140.82.121.3|:443... connected.\n",
            "HTTP request sent, awaiting response... 302 Found\n",
            "Location: https://raw.githubusercontent.com/vinay-swamy/deeplearning_tutorial/main/data.tar.gz [following]\n",
            "--2022-08-13 19:46:59--  https://raw.githubusercontent.com/vinay-swamy/deeplearning_tutorial/main/data.tar.gz\n",
            "Resolving raw.githubusercontent.com (raw.githubusercontent.com)... 185.199.108.133, 185.199.109.133, 185.199.110.133, ...\n",
            "Connecting to raw.githubusercontent.com (raw.githubusercontent.com)|185.199.108.133|:443... connected.\n",
            "HTTP request sent, awaiting response... 200 OK\n",
            "Length: 29346211 (28M) [application/octet-stream]\n",
            "Saving to: ‘data.tar.gz’\n",
            "\n",
            "data.tar.gz         100%[===================>]  27.99M  --.-KB/s    in 0.08s   \n",
            "\n",
            "2022-08-13 19:47:01 (329 MB/s) - ‘data.tar.gz’ saved [29346211/29346211]\n",
            "\n",
            "0.png\n",
            "10000.png\n",
            "10001.png\n",
            "10002.png\n",
            "10003.png\n",
            "10004.png\n",
            "10005.png\n",
            "10006.png\n",
            "10007.png\n",
            "10008.png\n"
          ]
        }
      ],
      "source": [
        "!wget https://github.com/vinay-swamy/deeplearning_tutorial/raw/main/data.tar.gz\n",
        "!tar -xzf data.tar.gz\n",
        "!ls data/ | head "
      ]
    },
    {
      "cell_type": "code",
      "source": [
        "!cd sample_data \n",
        "!ls\n",
        "# !git init \n",
        "# !git config --global user.email \"ychhatre@gmail.com\"\n",
        "# !git config --global user.name \"Yash Chhatre\"\n",
        "# !git add .\n",
        "# !git commit -m'initial commit'\n",
        "# !git branch -M main\n",
        "# !git remote add origin https://github.com/ychhatre/ShoppingItemClassification.git\n",
        "# !git push -u origin main"
      ],
      "metadata": {
        "colab": {
          "base_uri": "https://localhost:8080/"
        },
        "id": "MrqS02LauiL_",
        "outputId": "4aa992cf-5748-412d-d43c-2cc1480f6b69"
      },
      "execution_count": null,
      "outputs": [
        {
          "output_type": "stream",
          "name": "stdout",
          "text": [
            "data  data.tar.gz  sample_data\n"
          ]
        }
      ]
    },
    {
      "cell_type": "code",
      "source": [
        "import pandas as pd\n",
        "import os\n",
        "from skimage import io\n",
        "import numpy as np\n",
        "import matplotlib.pyplot as plt\n",
        "from tqdm import tqdm\n",
        "\n",
        "\n",
        "# pytorch imports \n",
        "import torch \n",
        "import torch.nn as nn \n",
        "import torch.optim as optim \n",
        "import torch.nn.functional as F \n",
        "from torch.utils.data import DataLoader \n",
        "from torch.utils.data.dataset import Dataset\n",
        "import torchvision.transforms as transforms"
      ],
      "metadata": {
        "id": "vm6V5gXLfuCb"
      },
      "execution_count": null,
      "outputs": []
    },
    {
      "cell_type": "code",
      "source": [
        "class ShoppingItemDataset(Dataset):\n",
        "  def __init__(self, csv_file, root_dir, transform=None):\n",
        "    self.observations = pd.read_csv(csv_file) \n",
        "    self.root_dir = root_dir\n",
        "    self.transform = transform\n",
        "\n",
        "  def __len__(self):\n",
        "        return len(self.observations) \n",
        "\n",
        "  def __getitem__(self, idx):\n",
        "    img_path = os.path.join(self.root_dir, str(self.observations.iloc[idx, 0])) + \".png\"\n",
        "    img = io.imread(img_path)\n",
        "    label = torch.tensor(self.observations.iloc[idx, 1])\n",
        "\n",
        "    if self.transform:\n",
        "      img = self.transform(img)\n",
        "    return img, label\n",
        "\n",
        "# class NeuralNetwork(nn.Module): \n",
        "#   def __init__(self): \n",
        "#     super(NeuralNetwork, self).__init__()\n",
        "#     self.fc1 = nn.Linear(784, 512)\n",
        "#     self.fc2 = nn.Linear(512, 128) \n",
        "#     self.fc3 = nn.Linear(128, 10)\n",
        "#   def forward(self, x): \n",
        "#     x = F.relu(self.fc1(x))\n",
        "#     x = F.relu(self.fc2(x))\n",
        "#     x = F.softmax(self.fc3(x), dim=1)\n",
        "#     return x \n",
        "  \n",
        "\n",
        "class ConvNetwork(nn.Module): \n",
        "  def __init__(self, isDropout): \n",
        "    super(ConvNetwork, self).__init__()\n",
        "    self.conv1 = nn.Conv2d(1, 10, 5)\n",
        "    self.conv2 = nn.Conv2d(10, 20, 5) \n",
        "    self.conv3 = nn.Conv2d(20, 64, 3)\n",
        "    self.pool = nn.MaxPool2d(2,2) \n",
        "    self.fc1 = nn.Linear(64, 32)\n",
        "    self.fc2 = nn.Linear(32, 16) \n",
        "    self.fc3 = nn.Linear(16, 10)\n",
        "    self.isDropout = isDropout\n",
        "    if(isDropout):\n",
        "      self.dropout = nn.Dropout(0.25)\n",
        "  \n",
        "  def forward(self, x): \n",
        "    x = self.pool(F.relu(self.conv1(x))) # [128, 10, 12, 12]\n",
        "    x = self.pool(F.relu(self.conv2(x)))  # [128, 20, 4, 4]\n",
        "    x = self.pool(F.relu(self.conv3(x))) # [128, 64, 1, 1]\n",
        "    x = x.view(-1, 64)   \n",
        "    x = F.relu(self.fc1(x))\n",
        "    x = self.dropout(x) if self.isDropout else x \n",
        "    x = F.relu(self.fc2(x))\n",
        "    x = self.dropout(x) if self.isDropout else x \n",
        "    x = F.softmax(self.fc3(x), dim=1)\n",
        "    return x\n",
        "\n",
        "class Trainer:\n",
        "  def __init__(self, model, loss_function, optimizer, num_epochs, train_loader, val_loader, test_loader) -> None:\n",
        "    self.model = model\n",
        "    self.loss_function = loss_function\n",
        "    self.optimizer = optimizer \n",
        "    self.num_epochs = num_epochs \n",
        "    self.train_loader = train_loader\n",
        "    self.val_loader = val_loader\n",
        "    self.test_loader = test_loader\n",
        "\n",
        "  def train(self): # runs one epoch of training \n",
        "    losses = []\n",
        "    for batch_idx, (data, targets) in enumerate(self.train_loader): \n",
        "      scores = self.model(data)\n",
        "      loss = self.loss_function(scores, targets)\n",
        "      self.optimizer.zero_grad()\n",
        "      loss.backward()\n",
        "      self.optimizer.step()\n",
        "      losses.append(loss.item())\n",
        "    return losses \n",
        "\n",
        "  def validation(self): \n",
        "    val_loss = []\n",
        "    self.model.eval()\n",
        "    for batch_idx, (data, targets) in enumerate(self.val_loader): \n",
        "      scores = self.model(data)\n",
        "      loss = self.loss_function(scores, targets)\n",
        "      val_loss.append(loss.item()) \n",
        "    return val_loss\n",
        "\n",
        "  def training(self): \n",
        "    train_loss = []\n",
        "    validation_loss = []\n",
        "    for epoch in tqdm(range(self.num_epochs)): \n",
        "      loss = self.train()\n",
        "      train_loss.append(np.mean(loss))\n",
        "      \n",
        "      val_loss = self.validation()\n",
        "      validation_loss.append(np.mean(val_loss))\n",
        "\n",
        "      print(f\"epoch is {epoch} and train_loss is {train_loss[epoch]} and val_loss is {val_loss[epoch]}\")\n",
        "    return {\"train_loss\": train_loss, \"val_loss\": validation_loss}\n",
        "\n",
        "\n",
        "\n",
        "  def check_accuracy(self, loader):\n",
        "    correct = 0\n",
        "    samples = 0\n",
        "    self.model.eval()\n",
        "\n",
        "    with torch.no_grad():\n",
        "      for x,y in loader: \n",
        "        scores = self.model(x)\n",
        "        _, predictions = scores.max(1)\n",
        "        correct += (predictions == y).sum()\n",
        "        samples += predictions.size(0)\n",
        "      print(f'{correct}/{samples}')\n",
        "    # self.model.train()\n",
        "  \n",
        "  def displayResults(self): \n",
        "    print(\"Training set: \")\n",
        "    self.check_accuracy(self.train_loader)\n",
        "\n",
        "    print(\"Test set: \")\n",
        "    self.check_accuracy(self.test_loader)\n"
      ],
      "metadata": {
        "id": "cjEYp4TBfxh3"
      },
      "execution_count": null,
      "outputs": []
    },
    {
      "cell_type": "code",
      "execution_count": null,
      "metadata": {
        "colab": {
          "base_uri": "https://localhost:8080/",
          "height": 1000
        },
        "id": "DLYyqR4oDeTL",
        "outputId": "026c7022-46bf-4122-a4a6-c334edca8cdd"
      },
      "outputs": [
        {
          "output_type": "stream",
          "name": "stdout",
          "text": [
            "epoch is 0 and train_loss is 2.142093220457863 and val_loss is 2.0407657623291016\n",
            "epoch is 1 and train_loss is 1.9963698166246993 and val_loss is 1.969772219657898\n",
            "epoch is 2 and train_loss is 1.9735655297105685 and val_loss is 1.9918627738952637\n",
            "epoch is 3 and train_loss is 1.9628725600318786 and val_loss is 2.0349910259246826\n",
            "epoch is 4 and train_loss is 1.9557525014724975 and val_loss is 1.9738162755966187\n",
            "epoch is 5 and train_loss is 1.949113364417713 and val_loss is 1.9280991554260254\n",
            "epoch is 6 and train_loss is 1.9430739155973489 and val_loss is 1.9309195280075073\n",
            "epoch is 7 and train_loss is 1.9282862020376772 and val_loss is 1.910162329673767\n",
            "epoch is 8 and train_loss is 1.9022633519035559 and val_loss is 1.8807040452957153\n",
            "epoch is 9 and train_loss is 1.8921168357038651 and val_loss is 1.9460705518722534\n",
            "Training set: \n",
            "23028/40000\n",
            "Test set: \n",
            "5753/10000\n",
            "epoch is 0 and train_loss is 2.0261660722878796 and val_loss is 1.8760676383972168\n",
            "epoch is 1 and train_loss is 1.8245348446666243 and val_loss is 1.725130319595337\n",
            "epoch is 2 and train_loss is 1.7981005914675923 and val_loss is 1.7776349782943726\n",
            "epoch is 3 and train_loss is 1.7275152648218906 and val_loss is 1.7382586002349854\n",
            "epoch is 4 and train_loss is 1.7115771302019065 and val_loss is 1.6694021224975586\n",
            "epoch is 5 and train_loss is 1.7022285347167676 and val_loss is 1.697697401046753\n",
            "epoch is 6 and train_loss is 1.6951663223699258 and val_loss is 1.6758428812026978\n",
            "epoch is 7 and train_loss is 1.688904358175235 and val_loss is 1.6691666841506958\n",
            "epoch is 8 and train_loss is 1.683448633446861 and val_loss is 1.7319250106811523\n",
            "epoch is 9 and train_loss is 1.6785632215749722 and val_loss is 1.6610808372497559\n",
            "Training set: \n",
            "31617/40000\n",
            "Test set: \n",
            "7831/10000\n",
            "epoch is 0 and train_loss is 2.0953500853559843 and val_loss is 1.9630076885223389\n",
            "epoch is 1 and train_loss is 1.996049796811308 and val_loss is 1.9660496711730957\n",
            "epoch is 2 and train_loss is 1.9760089175769697 and val_loss is 1.946336030960083\n",
            "epoch is 3 and train_loss is 1.964119172705629 and val_loss is 1.9210641384124756\n",
            "epoch is 4 and train_loss is 1.9540425691360863 and val_loss is 1.9034788608551025\n",
            "epoch is 5 and train_loss is 1.9466828031661791 and val_loss is 1.8913346529006958\n",
            "epoch is 6 and train_loss is 1.9408019967734242 and val_loss is 2.0035407543182373\n",
            "epoch is 7 and train_loss is 1.9356245541344055 and val_loss is 1.8997560739517212\n",
            "epoch is 8 and train_loss is 1.932008301868987 and val_loss is 1.9078798294067383\n",
            "epoch is 9 and train_loss is 1.9311106837214753 and val_loss is 1.9382389783859253\n",
            "Training set: \n",
            "21212/40000\n",
            "Test set: \n",
            "5286/10000\n"
          ]
        },
        {
          "output_type": "display_data",
          "data": {
            "text/plain": [
              "<Figure size 216x144 with 1 Axes>"
            ],
            "image/png": "[encoded data removed]"
          },
          "metadata": {
            "needs_background": "light"
          }
        },
        {
          "output_type": "display_data",
          "data": {
            "text/plain": [
              "<Figure size 216x144 with 1 Axes>"
            ],
            "image/png": "[encoded data removed]"
          },
          "metadata": {
            "needs_background": "light"
          }
        }
      ],
      "source": [
        "models = [\n",
        "    {\"batch_size\": 128, \"learning_rate\": 0.008, \"model\": ConvNetwork(isDropout=True), \"dataset\": ShoppingItemDataset(\n",
        "      csv_file=\"data/image_labels.csv.gz\", \n",
        "      root_dir=\"data\", \n",
        "      transform=transforms.Compose(\n",
        "          [\n",
        "            transforms.ToTensor(), \n",
        "            transforms.RandomRotation(degrees=90),\n",
        "            transforms.Resize(size=32)\n",
        "          ]\n",
        "      )\n",
        "    )},\n",
        "    {\"batch_size\": 128, \"learning_rate\": 0.008, \"model\": ConvNetwork(isDropout=True), \"dataset\": ShoppingItemDataset(\n",
        "      csv_file=\"data/image_labels.csv.gz\", \n",
        "      root_dir=\"data\", \n",
        "      transform=transforms.Compose([transforms.ToTensor()]))\n",
        "    }, \n",
        "    {\"batch_size\": 128, \"learning_rate\": 0.008, \"model\": ConvNetwork(isDropout=False), \"dataset\": ShoppingItemDataset(\n",
        "      csv_file=\"data/image_labels.csv.gz\", \n",
        "      root_dir=\"data\", \n",
        "      transform=transforms.Compose(\n",
        "          [\n",
        "            transforms.ToTensor(), \n",
        "            transforms.RandomRotation(degrees=90),\n",
        "            transforms.Resize(size=32)\n",
        "          ]\n",
        "      )\n",
        "    )}, \n",
        "  ]\n",
        "\n",
        "\n",
        "training_losses = []\n",
        "val_losses = []\n",
        "for i in range(len(models)):\n",
        "  train_set, val_set, test_set, = torch.utils.data.random_split(models[i][\"dataset\"], [40000, 10000, 10000])\n",
        "  trainer = Trainer( \n",
        "      model=models[i][\"model\"], \n",
        "      loss_function=nn.CrossEntropyLoss(), \n",
        "      optimizer=optim.Adagrad(models[i][\"model\"].parameters(), lr=models[i][\"learning_rate\"]), \n",
        "      num_epochs=10, \n",
        "      train_loader=DataLoader(train_set, models[i][\"batch_size\"], True), \n",
        "      test_loader=DataLoader(test_set, models[i][\"batch_size\"], True), \n",
        "      val_loader=DataLoader(val_set, models[i][\"batch_size\"], True))\n",
        "  \n",
        "  losses_map = trainer.training()\n",
        "  training_losses.append(losses_map[\"train_loss\"])\n",
        "  val_losses.append(losses_map[\"val_loss\"])\n",
        "  trainer.displayResults()\n",
        "\n",
        "\n",
        "def plot_loss(loss, isTraining): \n",
        "  plt.figure(figsize=(3, 2))\n",
        "  plt.title(\"Training Loss\" if isTraining else \"Validation Loss\")\n",
        "  for i in range(len(loss)): \n",
        "    plt.plot(loss[i],label=\"model \" + str(i + 1))\n",
        "  plt.xlabel(\"Epochs\")\n",
        "  plt.ylabel(\"Loss\")\n",
        "  plt.legend()\n",
        "  plt.show()          \n",
        "\n",
        "plot_loss(training_losses, True)\n",
        "plot_loss(val_losses, False)\n"
      ]
    }
  ],
  "metadata": {
    "colab": {
      "collapsed_sections": [],
      "name": "ShoppingImageClassification.ipynb",
      "provenance": [],
      "authorship_tag": "ABX9TyNYFHXFD95vccSExtEZg7GH",
      "include_colab_link": true
    },
    "kernelspec": {
      "display_name": "Python 3",
      "name": "python3"
    },
    "language_info": {
      "name": "python"
    }
  },
  "nbformat": 4,
  "nbformat_minor": 0
}